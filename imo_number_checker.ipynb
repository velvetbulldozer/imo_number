{
 "cells": [
  {
   "cell_type": "markdown",
   "id": "4669cd18",
   "metadata": {},
   "source": [
    "# IMO checksum\n",
    "* IMO number checker\n",
    "    - For example, for IMO 9074729: (9×7) + (0×6) + (7×5) + (4×4) + (7×3) + (2×2) = 139\n",
    "* IMO number generator\n",
    "* IMO amount of IMO numbers possible between two endpoints\n",
    "* 2024-02-03"
   ]
  },
  {
   "cell_type": "markdown",
   "id": "5b978e31",
   "metadata": {},
   "source": [
    "# Import"
   ]
  },
  {
   "cell_type": "markdown",
   "id": "b5a48929",
   "metadata": {},
   "source": [
    "## Import packages"
   ]
  },
  {
   "cell_type": "code",
   "execution_count": 1,
   "id": "69b880e3",
   "metadata": {
    "ExecuteTime": {
     "end_time": "2024-02-16T11:35:42.688021Z",
     "start_time": "2024-02-16T11:35:41.946402Z"
    }
   },
   "outputs": [],
   "source": [
    "# data wrangling\n",
    "import pandas as pd\n",
    "import numpy as np\n",
    "\n",
    "# random\n",
    "from random import randint"
   ]
  },
  {
   "cell_type": "markdown",
   "id": "1cc5e2e0",
   "metadata": {},
   "source": [
    "## Import test data"
   ]
  },
  {
   "cell_type": "code",
   "execution_count": 4,
   "id": "72fb922c",
   "metadata": {
    "ExecuteTime": {
     "end_time": "2024-02-16T11:35:42.717076Z",
     "start_time": "2024-02-16T11:35:42.710212Z"
    }
   },
   "outputs": [],
   "source": [
    "imo_numbers = [\n",
    "    9224764,\n",
    "    9839179,\n",
    "    9839143,\n",
    "    2131212,\n",
    "    213213,\n",
    "    7677124,\n",
    "    6809082,\n",
    "    4660961,\n",
    "    12,\n",
    "    9226281,\n",
    "    \"\",\n",
    "]\n",
    "\n",
    "df = pd.DataFrame(imo_numbers, columns=[\"imo_number\"])"
   ]
  },
  {
   "cell_type": "markdown",
   "id": "0e5c0a0d",
   "metadata": {},
   "source": [
    "## Import functions"
   ]
  },
  {
   "cell_type": "code",
   "execution_count": 5,
   "id": "233530ee",
   "metadata": {
    "ExecuteTime": {
     "end_time": "2024-02-16T11:35:46.133266Z",
     "start_time": "2024-02-16T11:35:46.103170Z"
    }
   },
   "outputs": [],
   "source": [
    "def imo_checker_binary(string: str) -> str:\n",
    "    \"\"\"\n",
    "    validates a single IMO number\n",
    "    args: a string, a possible single IMO number\n",
    "    returns: binary True/False\n",
    "    \"\"\"\n",
    "    try:\n",
    "        # cast a string as an integer, if impossible return false, see except clause\n",
    "        string_test = int(string)\n",
    "        string = str(string)\n",
    "\n",
    "        # extract checksum digit from IMO number\n",
    "        checksum = str(\n",
    "            (int(string[-7]) * 7)\n",
    "            + (int(string[-6]) * 6)\n",
    "            + (int(string[-5]) * 5)\n",
    "            + (int(string[-4]) * 4)\n",
    "            + (int(string[-3]) * 3)\n",
    "            + (int(string[-2]) * 2)\n",
    "        )\n",
    "\n",
    "        # check if last digit of checksum is equal to last digit of IMO number (return true/false)\n",
    "        if checksum[-1] == string[-1]:\n",
    "            return True\n",
    "        else:\n",
    "            return False\n",
    "\n",
    "    except (ValueError, IndexError) as e:\n",
    "        return False\n",
    "\n",
    "\n",
    "def imo_checker(string: str) -> str:\n",
    "    \"\"\"\n",
    "    checks if a string is an IMO number and returns valid IMO number\n",
    "    args: a char possible IMO number, char length 7\n",
    "    returns: a valid imo number or none\n",
    "    \"\"\"\n",
    "    string = str(string)\n",
    "\n",
    "    # extract checksum digit from IMO number\n",
    "    checksum = str(\n",
    "        (int(string[-7]) * 7)\n",
    "        + (int(string[-6]) * 6)\n",
    "        + (int(string[-5]) * 5)\n",
    "        + (int(string[-4]) * 4)\n",
    "        + (int(string[-3]) * 3)\n",
    "        + (int(string[-2]) * 2)\n",
    "    )\n",
    "\n",
    "    # check if last digit of checksum is equal to last digit of IMO number (return IMO number)\n",
    "    if checksum[-1] == string[-1]:\n",
    "        return string\n",
    "\n",
    "\n",
    "def gen_imo_number(amount_imo_numbers: int) -> list:\n",
    "    \"\"\"\n",
    "    generates valid synthetic IMO numbers\n",
    "    args: number of IMO numbers\n",
    "    returns: list of valid IMO numbers\n",
    "    \"\"\"\n",
    "\n",
    "    # initiate list\n",
    "    valid_imo_number_list = []\n",
    "\n",
    "    # while loop to create desired amount of IMO numbers\n",
    "    while len(valid_imo_number_list) < amount_imo_numbers:\n",
    "        random_integer = randint(5000000, 9999999)\n",
    "        valid_imo_number = imo_checker(random_integer)\n",
    "        if valid_imo_number is not None:\n",
    "            valid_imo_number_list.append(valid_imo_number)\n",
    "    return valid_imo_number_list\n",
    "\n",
    "\n",
    "# def convert_number_to_arabic(string):\n",
    "#     try:\n",
    "#         return convert_numbers.english_to_arabic(string)\n",
    "#     except ValueError as e:\n",
    "#         return np.nan\n",
    "\n",
    "\n",
    "# def convert_arabic_to_number(string):\n",
    "#     try:\n",
    "#         return convert_numbers.arabic_to_english(string)\n",
    "#     except ValueError as e:\n",
    "#         return np.nan"
   ]
  },
  {
   "cell_type": "markdown",
   "id": "1b1044b0",
   "metadata": {},
   "source": [
    "# Validate IMO numbers"
   ]
  },
  {
   "cell_type": "code",
   "execution_count": 6,
   "id": "aad6109c",
   "metadata": {
    "ExecuteTime": {
     "end_time": "2024-02-16T11:35:46.801346Z",
     "start_time": "2024-02-16T11:35:46.768994Z"
    }
   },
   "outputs": [
    {
     "data": {
      "application/vnd.microsoft.datawrangler.viewer.v0+json": {
       "columns": [
        {
         "name": "index",
         "rawType": "int64",
         "type": "integer"
        },
        {
         "name": "imo_number",
         "rawType": "object",
         "type": "unknown"
        },
        {
         "name": "test",
         "rawType": "bool",
         "type": "boolean"
        }
       ],
       "ref": "5f96f6d7-96d2-46f5-a1a6-f9d69a649c53",
       "rows": [
        [
         "0",
         "9224764",
         "True"
        ],
        [
         "1",
         "9839179",
         "True"
        ],
        [
         "2",
         "9839143",
         "True"
        ],
        [
         "3",
         "2131212",
         "False"
        ],
        [
         "4",
         "213213",
         "False"
        ],
        [
         "5",
         "7677124",
         "False"
        ],
        [
         "6",
         "6809082",
         "True"
        ],
        [
         "7",
         "4660961",
         "False"
        ],
        [
         "8",
         "12",
         "False"
        ],
        [
         "9",
         "9226281",
         "True"
        ],
        [
         "10",
         "",
         "False"
        ]
       ],
       "shape": {
        "columns": 2,
        "rows": 11
       }
      },
      "text/html": [
       "<div>\n",
       "<style scoped>\n",
       "    .dataframe tbody tr th:only-of-type {\n",
       "        vertical-align: middle;\n",
       "    }\n",
       "\n",
       "    .dataframe tbody tr th {\n",
       "        vertical-align: top;\n",
       "    }\n",
       "\n",
       "    .dataframe thead th {\n",
       "        text-align: right;\n",
       "    }\n",
       "</style>\n",
       "<table border=\"1\" class=\"dataframe\">\n",
       "  <thead>\n",
       "    <tr style=\"text-align: right;\">\n",
       "      <th></th>\n",
       "      <th>imo_number</th>\n",
       "      <th>test</th>\n",
       "    </tr>\n",
       "  </thead>\n",
       "  <tbody>\n",
       "    <tr>\n",
       "      <th>0</th>\n",
       "      <td>9224764</td>\n",
       "      <td>True</td>\n",
       "    </tr>\n",
       "    <tr>\n",
       "      <th>1</th>\n",
       "      <td>9839179</td>\n",
       "      <td>True</td>\n",
       "    </tr>\n",
       "    <tr>\n",
       "      <th>2</th>\n",
       "      <td>9839143</td>\n",
       "      <td>True</td>\n",
       "    </tr>\n",
       "    <tr>\n",
       "      <th>3</th>\n",
       "      <td>2131212</td>\n",
       "      <td>False</td>\n",
       "    </tr>\n",
       "    <tr>\n",
       "      <th>4</th>\n",
       "      <td>213213</td>\n",
       "      <td>False</td>\n",
       "    </tr>\n",
       "    <tr>\n",
       "      <th>5</th>\n",
       "      <td>7677124</td>\n",
       "      <td>False</td>\n",
       "    </tr>\n",
       "    <tr>\n",
       "      <th>6</th>\n",
       "      <td>6809082</td>\n",
       "      <td>True</td>\n",
       "    </tr>\n",
       "    <tr>\n",
       "      <th>7</th>\n",
       "      <td>4660961</td>\n",
       "      <td>False</td>\n",
       "    </tr>\n",
       "    <tr>\n",
       "      <th>8</th>\n",
       "      <td>12</td>\n",
       "      <td>False</td>\n",
       "    </tr>\n",
       "    <tr>\n",
       "      <th>9</th>\n",
       "      <td>9226281</td>\n",
       "      <td>True</td>\n",
       "    </tr>\n",
       "    <tr>\n",
       "      <th>10</th>\n",
       "      <td></td>\n",
       "      <td>False</td>\n",
       "    </tr>\n",
       "  </tbody>\n",
       "</table>\n",
       "</div>"
      ],
      "text/plain": [
       "   imo_number   test\n",
       "0     9224764   True\n",
       "1     9839179   True\n",
       "2     9839143   True\n",
       "3     2131212  False\n",
       "4      213213  False\n",
       "5     7677124  False\n",
       "6     6809082   True\n",
       "7     4660961  False\n",
       "8          12  False\n",
       "9     9226281   True\n",
       "10             False"
      ]
     },
     "execution_count": 6,
     "metadata": {},
     "output_type": "execute_result"
    }
   ],
   "source": [
    "df[\"test\"] = df[\"imo_number\"].apply(imo_checker_binary)\n",
    "df"
   ]
  },
  {
   "cell_type": "markdown",
   "id": "dc077a60",
   "metadata": {},
   "source": [
    "# Generate IMO numbers"
   ]
  },
  {
   "cell_type": "code",
   "execution_count": 7,
   "id": "42cc93ac",
   "metadata": {
    "ExecuteTime": {
     "end_time": "2024-02-16T11:35:47.974364Z",
     "start_time": "2024-02-16T11:35:47.529666Z"
    }
   },
   "outputs": [
    {
     "name": "stdout",
     "output_type": "stream",
     "text": [
      "CPU times: total: 156 ms\n",
      "Wall time: 165 ms\n"
     ]
    },
    {
     "data": {
      "application/vnd.microsoft.datawrangler.viewer.v0+json": {
       "columns": [
        {
         "name": "index",
         "rawType": "int64",
         "type": "integer"
        },
        {
         "name": "imo_number",
         "rawType": "object",
         "type": "string"
        }
       ],
       "ref": "7ebc3ebd-4232-4ad1-8435-7149ebc8666d",
       "rows": [
        [
         "0",
         "8235390"
        ],
        [
         "1",
         "9855197"
        ],
        [
         "2",
         "6368612"
        ],
        [
         "3",
         "7215238"
        ],
        [
         "4",
         "7032545"
        ],
        [
         "5",
         "5633761"
        ],
        [
         "6",
         "7377115"
        ],
        [
         "7",
         "6296857"
        ],
        [
         "8",
         "8690461"
        ],
        [
         "9",
         "7345655"
        ],
        [
         "10",
         "7034816"
        ],
        [
         "11",
         "7246225"
        ],
        [
         "12",
         "9114397"
        ],
        [
         "13",
         "6313318"
        ],
        [
         "14",
         "5094460"
        ],
        [
         "15",
         "6384408"
        ],
        [
         "16",
         "8052841"
        ],
        [
         "17",
         "9721322"
        ],
        [
         "18",
         "7903483"
        ],
        [
         "19",
         "8031237"
        ]
       ],
       "shape": {
        "columns": 1,
        "rows": 20
       }
      },
      "text/html": [
       "<div>\n",
       "<style scoped>\n",
       "    .dataframe tbody tr th:only-of-type {\n",
       "        vertical-align: middle;\n",
       "    }\n",
       "\n",
       "    .dataframe tbody tr th {\n",
       "        vertical-align: top;\n",
       "    }\n",
       "\n",
       "    .dataframe thead th {\n",
       "        text-align: right;\n",
       "    }\n",
       "</style>\n",
       "<table border=\"1\" class=\"dataframe\">\n",
       "  <thead>\n",
       "    <tr style=\"text-align: right;\">\n",
       "      <th></th>\n",
       "      <th>imo_number</th>\n",
       "    </tr>\n",
       "  </thead>\n",
       "  <tbody>\n",
       "    <tr>\n",
       "      <th>0</th>\n",
       "      <td>8235390</td>\n",
       "    </tr>\n",
       "    <tr>\n",
       "      <th>1</th>\n",
       "      <td>9855197</td>\n",
       "    </tr>\n",
       "    <tr>\n",
       "      <th>2</th>\n",
       "      <td>6368612</td>\n",
       "    </tr>\n",
       "    <tr>\n",
       "      <th>3</th>\n",
       "      <td>7215238</td>\n",
       "    </tr>\n",
       "    <tr>\n",
       "      <th>4</th>\n",
       "      <td>7032545</td>\n",
       "    </tr>\n",
       "    <tr>\n",
       "      <th>5</th>\n",
       "      <td>5633761</td>\n",
       "    </tr>\n",
       "    <tr>\n",
       "      <th>6</th>\n",
       "      <td>7377115</td>\n",
       "    </tr>\n",
       "    <tr>\n",
       "      <th>7</th>\n",
       "      <td>6296857</td>\n",
       "    </tr>\n",
       "    <tr>\n",
       "      <th>8</th>\n",
       "      <td>8690461</td>\n",
       "    </tr>\n",
       "    <tr>\n",
       "      <th>9</th>\n",
       "      <td>7345655</td>\n",
       "    </tr>\n",
       "    <tr>\n",
       "      <th>10</th>\n",
       "      <td>7034816</td>\n",
       "    </tr>\n",
       "    <tr>\n",
       "      <th>11</th>\n",
       "      <td>7246225</td>\n",
       "    </tr>\n",
       "    <tr>\n",
       "      <th>12</th>\n",
       "      <td>9114397</td>\n",
       "    </tr>\n",
       "    <tr>\n",
       "      <th>13</th>\n",
       "      <td>6313318</td>\n",
       "    </tr>\n",
       "    <tr>\n",
       "      <th>14</th>\n",
       "      <td>5094460</td>\n",
       "    </tr>\n",
       "    <tr>\n",
       "      <th>15</th>\n",
       "      <td>6384408</td>\n",
       "    </tr>\n",
       "    <tr>\n",
       "      <th>16</th>\n",
       "      <td>8052841</td>\n",
       "    </tr>\n",
       "    <tr>\n",
       "      <th>17</th>\n",
       "      <td>9721322</td>\n",
       "    </tr>\n",
       "    <tr>\n",
       "      <th>18</th>\n",
       "      <td>7903483</td>\n",
       "    </tr>\n",
       "    <tr>\n",
       "      <th>19</th>\n",
       "      <td>8031237</td>\n",
       "    </tr>\n",
       "  </tbody>\n",
       "</table>\n",
       "</div>"
      ],
      "text/plain": [
       "   imo_number\n",
       "0     8235390\n",
       "1     9855197\n",
       "2     6368612\n",
       "3     7215238\n",
       "4     7032545\n",
       "5     5633761\n",
       "6     7377115\n",
       "7     6296857\n",
       "8     8690461\n",
       "9     7345655\n",
       "10    7034816\n",
       "11    7246225\n",
       "12    9114397\n",
       "13    6313318\n",
       "14    5094460\n",
       "15    6384408\n",
       "16    8052841\n",
       "17    9721322\n",
       "18    7903483\n",
       "19    8031237"
      ]
     },
     "execution_count": 7,
     "metadata": {},
     "output_type": "execute_result"
    }
   ],
   "source": [
    "%%time\n",
    "gen_imo_numbers = gen_imo_number(10000)\n",
    "df_gen = pd.DataFrame(gen_imo_numbers, columns=[\"imo_number\"])\n",
    "df_gen.head(20)"
   ]
  },
  {
   "cell_type": "markdown",
   "id": "386194f3",
   "metadata": {},
   "source": [
    "# How many IMO numbers are valid options"
   ]
  },
  {
   "cell_type": "code",
   "execution_count": 8,
   "id": "80ec3892",
   "metadata": {
    "ExecuteTime": {
     "end_time": "2024-02-16T11:36:05.690460Z",
     "start_time": "2024-02-16T11:35:48.554180Z"
    }
   },
   "outputs": [
    {
     "name": "stdout",
     "output_type": "stream",
     "text": [
      "5000000\n",
      "CPU times: total: 5.5 s\n",
      "Wall time: 5.69 s\n"
     ]
    },
    {
     "data": {
      "text/plain": [
       "(500000, 2)"
      ]
     },
     "execution_count": 8,
     "metadata": {},
     "output_type": "execute_result"
    }
   ],
   "source": [
    "%%time\n",
    "\n",
    "list_of_numbers = list(range(5000000, 10000000))\n",
    "print(len(list_of_numbers))\n",
    "\n",
    "df_options = pd.DataFrame(list_of_numbers, columns=[\"imo_number\"])\n",
    "df_options[\"test\"] = df_options[\"imo_number\"].apply(imo_checker_binary)\n",
    "\n",
    "df_options[(df_options[\"test\"] == True)].shape"
   ]
  },
  {
   "cell_type": "code",
   "execution_count": 9,
   "id": "c67e0012",
   "metadata": {
    "ExecuteTime": {
     "end_time": "2024-02-16T11:36:09.980121Z",
     "start_time": "2024-02-16T11:36:09.931536Z"
    }
   },
   "outputs": [],
   "source": [
    "df_true = df_options[(df_options[\"test\"] == True)]"
   ]
  },
  {
   "cell_type": "code",
   "execution_count": 11,
   "id": "57b296a5",
   "metadata": {
    "ExecuteTime": {
     "end_time": "2024-02-16T11:36:10.943358Z",
     "start_time": "2024-02-16T11:36:10.287245Z"
    }
   },
   "outputs": [
    {
     "name": "stderr",
     "output_type": "stream",
     "text": [
      "C:\\Users\\marte\\AppData\\Local\\Temp\\ipykernel_3060\\3788611040.py:1: SettingWithCopyWarning: \n",
      "A value is trying to be set on a copy of a slice from a DataFrame.\n",
      "Try using .loc[row_indexer,col_indexer] = value instead\n",
      "\n",
      "See the caveats in the documentation: https://pandas.pydata.org/pandas-docs/stable/user_guide/indexing.html#returning-a-view-versus-a-copy\n",
      "  df_true[\"test\"] = df_true[\"imo_number\"].astype(str).str[5:7]\n"
     ]
    }
   ],
   "source": [
    "df_true[\"test\"] = df_true[\"imo_number\"].astype(str).str[5:7]"
   ]
  },
  {
   "cell_type": "code",
   "execution_count": 12,
   "id": "9cb05e41",
   "metadata": {
    "ExecuteTime": {
     "end_time": "2024-02-16T11:36:13.038558Z",
     "start_time": "2024-02-16T11:36:13.012620Z"
    }
   },
   "outputs": [
    {
     "data": {
      "application/vnd.microsoft.datawrangler.viewer.v0+json": {
       "columns": [
        {
         "name": "index",
         "rawType": "int64",
         "type": "integer"
        },
        {
         "name": "imo_number",
         "rawType": "int64",
         "type": "integer"
        },
        {
         "name": "test",
         "rawType": "object",
         "type": "string"
        }
       ],
       "ref": "7bf62b29-de89-4ea5-b0a9-c04a02c28ca4",
       "rows": [
        [
         "5",
         "5000005",
         "05"
        ],
        [
         "17",
         "5000017",
         "17"
        ],
        [
         "29",
         "5000029",
         "29"
        ],
        [
         "31",
         "5000031",
         "31"
        ],
        [
         "43",
         "5000043",
         "43"
        ],
        [
         "55",
         "5000055",
         "55"
        ],
        [
         "67",
         "5000067",
         "67"
        ],
        [
         "79",
         "5000079",
         "79"
        ],
        [
         "81",
         "5000081",
         "81"
        ],
        [
         "93",
         "5000093",
         "93"
        ]
       ],
       "shape": {
        "columns": 2,
        "rows": 10
       }
      },
      "text/html": [
       "<div>\n",
       "<style scoped>\n",
       "    .dataframe tbody tr th:only-of-type {\n",
       "        vertical-align: middle;\n",
       "    }\n",
       "\n",
       "    .dataframe tbody tr th {\n",
       "        vertical-align: top;\n",
       "    }\n",
       "\n",
       "    .dataframe thead th {\n",
       "        text-align: right;\n",
       "    }\n",
       "</style>\n",
       "<table border=\"1\" class=\"dataframe\">\n",
       "  <thead>\n",
       "    <tr style=\"text-align: right;\">\n",
       "      <th></th>\n",
       "      <th>imo_number</th>\n",
       "      <th>test</th>\n",
       "    </tr>\n",
       "  </thead>\n",
       "  <tbody>\n",
       "    <tr>\n",
       "      <th>5</th>\n",
       "      <td>5000005</td>\n",
       "      <td>05</td>\n",
       "    </tr>\n",
       "    <tr>\n",
       "      <th>17</th>\n",
       "      <td>5000017</td>\n",
       "      <td>17</td>\n",
       "    </tr>\n",
       "    <tr>\n",
       "      <th>29</th>\n",
       "      <td>5000029</td>\n",
       "      <td>29</td>\n",
       "    </tr>\n",
       "    <tr>\n",
       "      <th>31</th>\n",
       "      <td>5000031</td>\n",
       "      <td>31</td>\n",
       "    </tr>\n",
       "    <tr>\n",
       "      <th>43</th>\n",
       "      <td>5000043</td>\n",
       "      <td>43</td>\n",
       "    </tr>\n",
       "    <tr>\n",
       "      <th>55</th>\n",
       "      <td>5000055</td>\n",
       "      <td>55</td>\n",
       "    </tr>\n",
       "    <tr>\n",
       "      <th>67</th>\n",
       "      <td>5000067</td>\n",
       "      <td>67</td>\n",
       "    </tr>\n",
       "    <tr>\n",
       "      <th>79</th>\n",
       "      <td>5000079</td>\n",
       "      <td>79</td>\n",
       "    </tr>\n",
       "    <tr>\n",
       "      <th>81</th>\n",
       "      <td>5000081</td>\n",
       "      <td>81</td>\n",
       "    </tr>\n",
       "    <tr>\n",
       "      <th>93</th>\n",
       "      <td>5000093</td>\n",
       "      <td>93</td>\n",
       "    </tr>\n",
       "  </tbody>\n",
       "</table>\n",
       "</div>"
      ],
      "text/plain": [
       "    imo_number test\n",
       "5      5000005   05\n",
       "17     5000017   17\n",
       "29     5000029   29\n",
       "31     5000031   31\n",
       "43     5000043   43\n",
       "55     5000055   55\n",
       "67     5000067   67\n",
       "79     5000079   79\n",
       "81     5000081   81\n",
       "93     5000093   93"
      ]
     },
     "execution_count": 12,
     "metadata": {},
     "output_type": "execute_result"
    }
   ],
   "source": [
    "df_true.head(10)"
   ]
  },
  {
   "cell_type": "code",
   "execution_count": 13,
   "id": "d1e8b89a",
   "metadata": {
    "ExecuteTime": {
     "end_time": "2024-02-16T11:36:11.012383Z",
     "start_time": "2024-02-16T11:36:11.012383Z"
    }
   },
   "outputs": [],
   "source": [
    "# df_true['test'].unique()"
   ]
  }
 ],
 "metadata": {
  "kernelspec": {
   "display_name": ".venv (3.11.9)",
   "language": "python",
   "name": "python3"
  },
  "language_info": {
   "codemirror_mode": {
    "name": "ipython",
    "version": 3
   },
   "file_extension": ".py",
   "mimetype": "text/x-python",
   "name": "python",
   "nbconvert_exporter": "python",
   "pygments_lexer": "ipython3",
   "version": "3.11.9"
  },
  "toc": {
   "base_numbering": 1,
   "nav_menu": {},
   "number_sections": true,
   "sideBar": true,
   "skip_h1_title": false,
   "title_cell": "Table of Contents",
   "title_sidebar": "Contents",
   "toc_cell": false,
   "toc_position": {},
   "toc_section_display": true,
   "toc_window_display": false
  },
  "varInspector": {
   "cols": {
    "lenName": 16,
    "lenType": 16,
    "lenVar": 40
   },
   "kernels_config": {
    "python": {
     "delete_cmd_postfix": "",
     "delete_cmd_prefix": "del ",
     "library": "var_list.py",
     "varRefreshCmd": "print(var_dic_list())"
    },
    "r": {
     "delete_cmd_postfix": ") ",
     "delete_cmd_prefix": "rm(",
     "library": "var_list.r",
     "varRefreshCmd": "cat(var_dic_list()) "
    }
   },
   "types_to_exclude": [
    "module",
    "function",
    "builtin_function_or_method",
    "instance",
    "_Feature"
   ],
   "window_display": false
  }
 },
 "nbformat": 4,
 "nbformat_minor": 5
}
